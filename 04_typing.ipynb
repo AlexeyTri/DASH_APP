{
  "nbformat": 4,
  "nbformat_minor": 0,
  "metadata": {
    "colab": {
      "provenance": [],
      "authorship_tag": "ABX9TyM+xeX0qg8fGgNGarRBicAA",
      "include_colab_link": true
    },
    "kernelspec": {
      "name": "python3",
      "display_name": "Python 3"
    },
    "language_info": {
      "name": "python"
    }
  },
  "cells": [
    {
      "cell_type": "markdown",
      "metadata": {
        "id": "view-in-github",
        "colab_type": "text"
      },
      "source": [
        "<a href=\"https://colab.research.google.com/github/AlexeyTri/DASH_APP/blob/master/04_typing.ipynb\" target=\"_parent\"><img src=\"https://colab.research.google.com/assets/colab-badge.svg\" alt=\"Open In Colab\"/></a>"
      ]
    },
    {
      "cell_type": "markdown",
      "source": [
        "# КЛАСС"
      ],
      "metadata": {
        "id": "N266Vuwk9xWm"
      }
    },
    {
      "cell_type": "markdown",
      "source": [
        "#Класс представляет собой тип данных (как int или str)\n",
        "* Это способ описания некоторой сущности, её состояния и возможного поведения\n",
        "* Поведение при этом зависит от состояния и может его изменять\n",
        "\n",
        "\n",
        "#Объект - это конретный представитель класса (как переменная этого типа)\n",
        "* У объекта своё состояние, изменяемое поведением\n",
        "* Поведение полностью определяется правилами, описанными в классе\n",
        "\n",
        "\n",
        "#Интерфейс - это класс, описывающий только поведение, без состояния\n",
        "* Создать объект типа интерфейса невозможно (если есть их поддержка на уровне языка)\n",
        "* Поведение полностью определяется правилами, описанными в классе\n",
        "* Вместо этого описываются классы, которые реализуют этот интерфейс и, в то же время, имеют состояние"
      ],
      "metadata": {
        "id": "pVEgP-Mu90ub"
      }
    },
    {
      "cell_type": "markdown",
      "source": [
        "## Абстрактные классы"
      ],
      "metadata": {
        "id": "P98_WLI2-9rj"
      }
    },
    {
      "cell_type": "markdown",
      "source": [
        "* Абстрактные классы представляют собой удобное промежуточное состояние между чистым интерфейсом и полноценным классом\n",
        "* Эмулировать абстрактные классы можно с помощью методов, которые бросают исключение в своей реализации по-умолчанию:"
      ],
      "metadata": {
        "id": "xfV3zdnF_UIa"
      }
    },
    {
      "cell_type": "code",
      "source": [
        "class Abstract:\n",
        "    def method(self):\n",
        "        raise NotImplementedError\n",
        "\n",
        "# Abstract().method()"
      ],
      "metadata": {
        "id": "q9MKIDWr_W0E"
      },
      "execution_count": null,
      "outputs": []
    },
    {
      "cell_type": "markdown",
      "source": [
        "* Подход плох тем, что возможность создать объект класса всё равно сохраняется и ошибка произойдёт в момент обращения к методу\n",
        "* Альтернатива - класс ABC (на самом деле его метакласс ABCMeta) и декораторы abstractmethod из библиотеки abc:"
      ],
      "metadata": {
        "id": "LEZXEzDeAOoF"
      }
    },
    {
      "cell_type": "code",
      "source": [
        "from abc import ABC, abstractmethod\n",
        "\n",
        "class Abstract(ABC):\n",
        "    @abstractmethod\n",
        "    def my_absract_method(self):\n",
        "        ...\n",
        "\n",
        "class Cls(Abstract):\n",
        "    def my_absract_method(self):\n",
        "        ...\n",
        "Cls()\n",
        "# Abstract()"
      ],
      "metadata": {
        "colab": {
          "base_uri": "https://localhost:8080/"
        },
        "id": "VeBYZOo7ALna",
        "outputId": "c041ab51-c6ad-48ab-b3f2-14bb42cc3310"
      },
      "execution_count": null,
      "outputs": [
        {
          "output_type": "execute_result",
          "data": {
            "text/plain": [
              "<__main__.Cls at 0x7f6d1df41e80>"
            ]
          },
          "metadata": {},
          "execution_count": 5
        }
      ]
    },
    {
      "cell_type": "markdown",
      "source": [
        "* Для версий Python ниже 3.8 есть различные версии декораторов (@abstractstaticmethod, @abstractproperty, @abstractclassmethod), на текущий момент язык поддерживает комбинирование декораторов (@abstractmethod должен находиться внутри):"
      ],
      "metadata": {
        "id": "dWHCdiu6Ble3"
      }
    },
    {
      "cell_type": "code",
      "source": [
        "class Abstract(ABC):\n",
        "    @staticmethod\n",
        "    @abstractmethod\n",
        "    def my_absract_method():\n",
        "        ...\n",
        "\n",
        "    @classmethod\n",
        "    @abstractmethod\n",
        "    def my_absract_classmethod(cls):\n",
        "        ...\n",
        "\n",
        "    @property\n",
        "    @abstractmethod\n",
        "    def my_absract_property(self):\n",
        "        ...\n",
        "\n",
        "    @my_absract_property.setter\n",
        "    @abstractmethod\n",
        "    def my_absract_property(self, val):\n",
        "        ..."
      ],
      "metadata": {
        "id": "xhBfQbhQBuVw"
      },
      "execution_count": null,
      "outputs": []
    },
    {
      "cell_type": "markdown",
      "source": [
        "## Аннотация типов"
      ],
      "metadata": {
        "id": "vxTzcRJUFlsz"
      }
    },
    {
      "cell_type": "markdown",
      "source": [
        "### Подход 1: утиная типизация\n",
        "\n",
        "* \"Если что-то ведёт себя как утка, значит это - утка\"\n",
        "* Эта концепция возникает в языках с динамической типизацией (Python, JavaScript) и означает, что при использовании объекта\n",
        "его конкретный класс не имеет значения\n",
        "важны его атрибуты (поля и методы)\n",
        "* Т.е. объект принимается без каких-либо проверок, и если он имеет нужные атрибуты - код выполнится корректно, если не имеет - нет"
      ],
      "metadata": {
        "id": "3Ff9f7FaFqCm"
      }
    },
    {
      "cell_type": "code",
      "source": [
        "class A:\n",
        "    def __eq__(self, val):\n",
        "        return True\n",
        "    \n",
        "print(A() == 3)"
      ],
      "metadata": {
        "colab": {
          "base_uri": "https://localhost:8080/"
        },
        "id": "3eXKPQh_FcdF",
        "outputId": "119ec161-54c2-449c-ff48-f6a179aa57e4"
      },
      "execution_count": null,
      "outputs": [
        {
          "output_type": "stream",
          "name": "stdout",
          "text": [
            "True\n"
          ]
        }
      ]
    },
    {
      "cell_type": "markdown",
      "source": [
        "* Пример выше показывает, что утиная типизация при отсутствии контроля типов может привести к неприятным последствиям\n",
        "* На утиной типизации основан механизм полиморфизма в Python"
      ],
      "metadata": {
        "id": "YSr_mmsTGJQP"
      }
    },
    {
      "cell_type": "markdown",
      "source": [
        "Полиморфизм\n",
        "\n",
        "* Полиморфизм позволяет работать с объектами, основываясь только на их интерфейсе, без знания типа\n",
        "* В C++ требуется, чтобы объекты полиморфных классов имели общего предка\n",
        "* В общем случае в Python это необязательно, достаточно, чтобы объекты поддерживали один интерфейс (duck-typing)\n",
        "\n",
        "\n",
        "Опишем для примера два класса геометрических фигур:"
      ],
      "metadata": {
        "id": "jZF-6GY8GOuX"
      }
    },
    {
      "cell_type": "code",
      "source": [
        "from contextlib import redirect_stdout\n",
        "class Square:\n",
        "    def __init__(self, side):\n",
        "        self.side = side\n",
        "\n",
        "    def area(self):\n",
        "        return self.side ** 2\n",
        "\n",
        "class Triangle:\n",
        "    def __init__(self, a, b, c):\n",
        "        self.a, self.b, self.c = a, b, c\n",
        "\n",
        "    def area(self):\n",
        "        s = (self.a + self.b + self.c)/2.0\n",
        "        return (s * (s-self.a) * (s-self.b) * (s-self.c)) ** 0.5 "
      ],
      "metadata": {
        "id": "b2DvzVmYGeAu"
      },
      "execution_count": null,
      "outputs": []
    },
    {
      "cell_type": "markdown",
      "source": [
        "Полиморфизм\n",
        "\n",
        "Теперь опишем функцию, которая ожидает объекты, умеющие вычислять свою площадь:"
      ],
      "metadata": {
        "id": "lbgjBeuBHfrF"
      }
    },
    {
      "cell_type": "code",
      "source": [
        "def compute_areas(figures):\n",
        "    for figure in figures:\n",
        "        print(figure.area(), end=' ')"
      ],
      "metadata": {
        "id": "NYzj4GgAHthi"
      },
      "execution_count": null,
      "outputs": []
    },
    {
      "cell_type": "code",
      "source": [
        "compute_areas([Square(10), Triangle(1,3,3)])"
      ],
      "metadata": {
        "colab": {
          "base_uri": "https://localhost:8080/"
        },
        "id": "9L034pKUIKMQ",
        "outputId": "c786ff9b-f3f2-4e06-899f-48bcc0c2b7b8"
      },
      "execution_count": null,
      "outputs": [
        {
          "output_type": "stream",
          "name": "stdout",
          "text": [
            "100 1.479019945774904 "
          ]
        }
      ]
    },
    {
      "cell_type": "markdown",
      "source": [
        "### Подход 2: номинальная типизация\n",
        "\n",
        "* Совместимость типов определяется через явные декларации в коде (имена типов и иерархия наследования)\n",
        "* Такой подход используется повсеместно в языках со статической типизацией (C++, Java)\n",
        "* В случае Python этого можно добиться с помощью статической проверки"
      ],
      "metadata": {
        "id": "hkmJIAg_IW71"
      }
    },
    {
      "cell_type": "code",
      "source": [
        "class Bird:\n",
        "    def feed(self) -> None: print('OK')\n",
        "\n",
        "class Duck(Bird):\n",
        "    def feed(self) -> None: print('OK')\n",
        "\n",
        "class Goose:\n",
        "    def feed(self) -> None: print('OK')\n",
        "\n",
        "def feed(bird: Bird) -> None:\n",
        "    bird.feed()\n",
        "\n",
        "feed(Bird())\n",
        "feed(Duck())\n",
        "# feed(Goose())"
      ],
      "metadata": {
        "colab": {
          "base_uri": "https://localhost:8080/"
        },
        "id": "QN6vplG7Jqmt",
        "outputId": "a677cea0-2801-46a3-a5d5-d30439697be7"
      },
      "execution_count": null,
      "outputs": [
        {
          "output_type": "stream",
          "name": "stdout",
          "text": [
            "OK\n",
            "OK\n",
            "OK\n"
          ]
        }
      ]
    },
    {
      "cell_type": "markdown",
      "source": [
        "Аннотация типов"
      ],
      "metadata": {
        "id": "mTm3EebiLDzI"
      }
    },
    {
      "cell_type": "code",
      "source": [
        "from typing import Set\n",
        "def print_scalar(obj: int) -> None:\n",
        "    print(obj)\n",
        "\n",
        "def print_set(obj: Set[int]) -> None:\n",
        "    print(obj)"
      ],
      "metadata": {
        "id": "eZB76rSrLLFd"
      },
      "execution_count": null,
      "outputs": []
    },
    {
      "cell_type": "markdown",
      "source": [
        "Модуль MyPy: статическая проверка типов"
      ],
      "metadata": {
        "id": "TLd7xiAbL2IS"
      }
    },
    {
      "cell_type": "code",
      "source": [
        "!pip install mypy"
      ],
      "metadata": {
        "colab": {
          "base_uri": "https://localhost:8080/"
        },
        "id": "dYXxHzCzMD_p",
        "outputId": "4e338630-9ce4-41b4-c9fb-c93d71a6e287"
      },
      "execution_count": null,
      "outputs": [
        {
          "output_type": "stream",
          "name": "stdout",
          "text": [
            "Looking in indexes: https://pypi.org/simple, https://us-python.pkg.dev/colab-wheels/public/simple/\n",
            "Collecting mypy\n",
            "  Downloading mypy-0.991-cp38-cp38-manylinux_2_17_x86_64.manylinux2014_x86_64.whl (17.9 MB)\n",
            "\u001b[K     |████████████████████████████████| 17.9 MB 977 kB/s \n",
            "\u001b[?25hRequirement already satisfied: typing-extensions>=3.10 in /usr/local/lib/python3.8/dist-packages (from mypy) (4.4.0)\n",
            "Requirement already satisfied: tomli>=1.1.0 in /usr/local/lib/python3.8/dist-packages (from mypy) (2.0.1)\n",
            "Collecting mypy-extensions>=0.4.3\n",
            "  Downloading mypy_extensions-0.4.3-py2.py3-none-any.whl (4.5 kB)\n",
            "Installing collected packages: mypy-extensions, mypy\n",
            "Successfully installed mypy-0.991 mypy-extensions-0.4.3\n"
          ]
        }
      ]
    },
    {
      "cell_type": "code",
      "source": [
        "def check_last():\n",
        "    with open('temp.txt', 'w') as fout:\n",
        "        fout.write(In[len(In)-2])\n",
        "    !mypy temp.txt"
      ],
      "metadata": {
        "id": "ZGghD8b8MHZ5"
      },
      "execution_count": null,
      "outputs": []
    },
    {
      "cell_type": "code",
      "source": [
        "def func(n: int=10)-> int:\n",
        "    return n ** 2\n",
        "\n",
        "func(2.5)"
      ],
      "metadata": {
        "colab": {
          "base_uri": "https://localhost:8080/"
        },
        "id": "n4_Xp_8UdMpT",
        "outputId": "c955c745-1de1-48cd-c7e6-22a7a8fdb70d"
      },
      "execution_count": null,
      "outputs": [
        {
          "output_type": "execute_result",
          "data": {
            "text/plain": [
              "6.25"
            ]
          },
          "metadata": {},
          "execution_count": 19
        }
      ]
    },
    {
      "cell_type": "markdown",
      "source": [
        "Тип Union"
      ],
      "metadata": {
        "id": "784zc3USdjxT"
      }
    },
    {
      "cell_type": "code",
      "source": [
        "from typing import Union, List, Set\n",
        "\n",
        "def func(x: Union[List[int], Set[str]]) -> None:\n",
        "    ...\n",
        "\n",
        "func([1,2,4])\n",
        "func({1,2,4})\n",
        "func({'s','r','t'})"
      ],
      "metadata": {
        "id": "N79U_-DedpQY"
      },
      "execution_count": null,
      "outputs": []
    },
    {
      "cell_type": "markdown",
      "source": [
        "Тип Any"
      ],
      "metadata": {
        "id": "UTW-Q_dCee7R"
      }
    },
    {
      "cell_type": "markdown",
      "source": [
        "* Тип Any говорит о том, что в этом месте может быть произвольный тип, и проверка кода игнорирует все, связанное с переменной типа Any\n",
        "\n",
        "* Для Any верны следующие утверждения:\n",
        "\n",
        "    * любой объект является объектом типа Any\n",
        "    * любой класс является подклассом типа Any\n",
        "    * Any и object являются подклассами друг друга\n",
        "    * Несмотря на схожесть, Any и object - это не одно и то же \n",
        "\n",
        "* тип object ограничивает множество операций теми, что допускает object, а Any допускает всё"
      ],
      "metadata": {
        "id": "FI2_y08Berdg"
      }
    },
    {
      "cell_type": "code",
      "source": [
        "!pip install typing"
      ],
      "metadata": {
        "id": "rMpmaAhtgPig"
      },
      "execution_count": null,
      "outputs": []
    },
    {
      "cell_type": "code",
      "source": [
        "import typing\n",
        "from typing import Any\n",
        "\n",
        "# def func_any(x: Any) -> None: x.nothing()\n",
        "def func_object(x: object) -> None: x.nothing()\n",
        "\n",
        "# func_any(None)\n",
        "func_object(None)"
      ],
      "metadata": {
        "id": "IYwmQOB7ehn5"
      },
      "execution_count": null,
      "outputs": []
    },
    {
      "cell_type": "markdown",
      "source": [
        "Тип Optional"
      ],
      "metadata": {
        "id": "KdKLwE_HgeyG"
      }
    },
    {
      "cell_type": "code",
      "source": [
        "from typing import Optional, List\n",
        "def func(x: Optional[List[int]]) -> None:\n",
        "    ...\n",
        "\n",
        "func([1,2,3])\n",
        "func(None)"
      ],
      "metadata": {
        "id": "Z6awYnJjggkw"
      },
      "execution_count": null,
      "outputs": []
    },
    {
      "cell_type": "code",
      "source": [
        "check_last()"
      ],
      "metadata": {
        "colab": {
          "base_uri": "https://localhost:8080/"
        },
        "id": "bTip_mdKhSjY",
        "outputId": "bcb85026-1d67-462e-8819-9c2186e904f4"
      },
      "execution_count": null,
      "outputs": [
        {
          "output_type": "stream",
          "name": "stdout",
          "text": [
            "\u001b[1m\u001b[32mSuccess: no issues found in 1 source file\u001b[m\n"
          ]
        }
      ]
    },
    {
      "cell_type": "markdown",
      "source": [
        "Тип Literal"
      ],
      "metadata": {
        "id": "t0pbmpiChZOA"
      }
    },
    {
      "cell_type": "markdown",
      "source": [
        "* Тип Literal параметризуется не другим типом, а конкретным значением"
      ],
      "metadata": {
        "id": "x7V3l-FmhbdL"
      }
    },
    {
      "cell_type": "code",
      "source": [
        "from typing import Literal\n",
        "def func(x: Literal[3], y: Literal['something']) -> None:\n",
        "    ...\n",
        "func(3, 'something')\n",
        "func(4, 'nothing')"
      ],
      "metadata": {
        "id": "72dYXnmdhfHn"
      },
      "execution_count": null,
      "outputs": []
    },
    {
      "cell_type": "code",
      "source": [
        "check_last()"
      ],
      "metadata": {
        "colab": {
          "base_uri": "https://localhost:8080/"
        },
        "id": "ellU2DWoiCPn",
        "outputId": "ae40c2a4-ee1c-43bc-8b9a-05786a76da77"
      },
      "execution_count": null,
      "outputs": [
        {
          "output_type": "stream",
          "name": "stdout",
          "text": [
            "temp.txt:5: \u001b[1m\u001b[31merror:\u001b[m Argument 1 to \u001b[m\u001b[1m\"func\"\u001b[m has incompatible type \u001b[m\u001b[1m\"Literal[4]\"\u001b[m; expected \u001b[m\u001b[1m\"Literal[3]\"\u001b[m  \u001b[m\u001b[33m[arg-type]\u001b[m\n",
            "temp.txt:5: \u001b[1m\u001b[31merror:\u001b[m Argument 2 to \u001b[m\u001b[1m\"func\"\u001b[m has incompatible type \u001b[m\u001b[1m\"Literal['nothing']\"\u001b[m; expected \u001b[m\u001b[1m\"Literal['something']\"\u001b[m  \u001b[m\u001b[33m[arg-type]\u001b[m\n",
            "\u001b[1m\u001b[31mFound 2 errors in 1 file (checked 1 source file)\u001b[m\n"
          ]
        }
      ]
    },
    {
      "cell_type": "markdown",
      "source": [
        "Определение собственных generic типов"
      ],
      "metadata": {
        "id": "1300CUdOiUBx"
      }
    },
    {
      "cell_type": "markdown",
      "source": [
        "* Функция TypeVar позволяет получить ссылку на тип переменной, имя которой было подано в качестве параметра\n",
        "* Ссылка на тип параметра позволяет создавать новые generic типы:"
      ],
      "metadata": {
        "id": "iAFtZN9qiVpo"
      }
    },
    {
      "cell_type": "code",
      "source": [
        "from typing import TypeVar, Generic, List\n",
        "\n",
        "T = TypeVar('T')\n",
        "\n",
        "class Stack(Generic[T]):\n",
        "    def __init__(self) ->None:\n",
        "        self.items: List[T] = []\n",
        "    def push(self, item: T) -> None:\n",
        "        self.items.append(item)\n",
        "\n",
        "stack: Stack[int] = Stack()\n",
        "stack.push(10)\n",
        "stack.push('10')"
      ],
      "metadata": {
        "id": "TBacRhkNibf3"
      },
      "execution_count": null,
      "outputs": []
    },
    {
      "cell_type": "code",
      "source": [
        "check_last()"
      ],
      "metadata": {
        "colab": {
          "base_uri": "https://localhost:8080/"
        },
        "id": "sX2FdHPBkbN2",
        "outputId": "d350260a-ace6-4ead-cf87-63318fef95dd"
      },
      "execution_count": null,
      "outputs": [
        {
          "output_type": "stream",
          "name": "stdout",
          "text": [
            "temp.txt:13: \u001b[1m\u001b[31merror:\u001b[m Argument 1 to \u001b[m\u001b[1m\"push\"\u001b[m of \u001b[m\u001b[1m\"Stack\"\u001b[m has incompatible type \u001b[m\u001b[1m\"str\"\u001b[m; expected \u001b[m\u001b[1m\"int\"\u001b[m  \u001b[m\u001b[33m[arg-type]\u001b[m\n",
            "\u001b[1m\u001b[31mFound 1 error in 1 file (checked 1 source file)\u001b[m\n"
          ]
        }
      ]
    },
    {
      "cell_type": "markdown",
      "source": [
        "### Подход 3: структурная типизация"
      ],
      "metadata": {
        "id": "q6W7klqskyoA"
      }
    },
    {
      "cell_type": "markdown",
      "source": [
        "* Совместимость типов определяется на основе структуры типов, а не на явных декларациях\n",
        "\n",
        "* Этот подход аналогичен утиной типизации за исключением того, что проверка является статической, а не динамической, это обеспечивает корректность типов без необходимости явных наследований, что повышает гибкость кода и независимость модулей и классов\n",
        "\n",
        "* Структурная типизация используется в TypeScript и Go\n",
        "\n",
        "* Python допускает использование структурной типизации с версии 3.8, для чего требуются аннотирование типов и протоколы\n",
        "\n",
        "* Протокол по сути является интерфейсом, которому объект должен удовлетворять для совместимости типов\n",
        "\n",
        "* В модуле typing есть много стандартных протоколов, например:\n",
        "\n",
        "Mapping\n",
        "Iterable\n",
        "Callable\n",
        "Hashable\n",
        "Reversible\n",
        "..."
      ],
      "metadata": {
        "id": "6b2lzqutlRnE"
      }
    },
    {
      "cell_type": "markdown",
      "source": [
        "Примеры использования протоколов:\n",
        "\n",
        "* Протокол Callable требует наличия у реализации интерфейса метода __call__\n",
        "* Протокол Mapping требует наличия у реализации интерфейса метода __getitem__"
      ],
      "metadata": {
        "id": "rbM-NsJrlZfK"
      }
    },
    {
      "cell_type": "code",
      "source": [
        "from typing import Callable\n",
        "def func(f: Callable[[int, int], bool]) -> bool:\n",
        "    return f(1,2)\n",
        "func(lambda x, y: x == y)"
      ],
      "metadata": {
        "colab": {
          "base_uri": "https://localhost:8080/"
        },
        "id": "brvScU6TlfcK",
        "outputId": "dcd300a2-3864-4da0-e818-64b77c514631"
      },
      "execution_count": null,
      "outputs": [
        {
          "output_type": "execute_result",
          "data": {
            "text/plain": [
              "False"
            ]
          },
          "metadata": {},
          "execution_count": 40
        }
      ]
    },
    {
      "cell_type": "code",
      "source": [
        "from typing import Mapping\n",
        "\n",
        "def func(m: Mapping[str, int], key: str) -> bool:\n",
        "    return m[key]\n",
        "\n",
        "func({'k':0}, 'k')"
      ],
      "metadata": {
        "colab": {
          "base_uri": "https://localhost:8080/"
        },
        "id": "Ex5uhqXOmDQA",
        "outputId": "6936dec0-b0f6-494e-fc8d-59e1d823de11"
      },
      "execution_count": null,
      "outputs": [
        {
          "output_type": "execute_result",
          "data": {
            "text/plain": [
              "0"
            ]
          },
          "metadata": {},
          "execution_count": 41
        }
      ]
    },
    {
      "cell_type": "markdown",
      "source": [
        "Определение собственного протокола\n",
        "\n",
        "* Этот и следующий пример взяты из статьи https://habr.com/ru/post/557898\n",
        "* Определим протокол и корректную его реализацию:"
      ],
      "metadata": {
        "id": "zZ7Olq0roGvV"
      }
    },
    {
      "cell_type": "code",
      "source": [
        "from typing import Protocol\n",
        "class Figure(Protocol):\n",
        "    name: str\n",
        "\n",
        "    def calculate_area(self) -> float: pass\n",
        "\n",
        "    def calculate_perimeter(self) -> float: pass\n",
        "\n",
        "def show(figure: Figure) -> None:\n",
        "    print(f'S ({figure.name}) = {figure.calculate_area()}')\n",
        "    print(f'P ({figure.name}) = {figure.calculate_perimeter()}')"
      ],
      "metadata": {
        "id": "FN5vDAM4oLyq"
      },
      "execution_count": null,
      "outputs": []
    },
    {
      "cell_type": "code",
      "source": [
        "class Square:\n",
        "    name = 'square'\n",
        "\n",
        "    def __init__(self, size: float): self.size = size\n",
        "    def calculate_area(self) -> float: return self.size * self.size\n",
        "    def calculate_perimeter(self) -> float: return 4 * self.size\n",
        "        \n",
        "    def set_color(self, color: str) -> None: self.color = color\n",
        "\n",
        "show(Square(size=3.14))"
      ],
      "metadata": {
        "colab": {
          "base_uri": "https://localhost:8080/"
        },
        "id": "bJwJUHNgpSgN",
        "outputId": "6a0261b0-78d7-4cf6-ee42-af0dc5702348"
      },
      "execution_count": null,
      "outputs": [
        {
          "output_type": "stream",
          "name": "stdout",
          "text": [
            "S (square) = 9.8596\n",
            "P (square) = 12.56\n"
          ]
        }
      ]
    },
    {
      "cell_type": "markdown",
      "source": [
        "Определение собственного протокола\n",
        "\n",
        "\n",
        "* Определим некорректную реализацию и отловим ошибку на этапе статической проверки:"
      ],
      "metadata": {
        "id": "O15Szk9Zpn4n"
      }
    },
    {
      "cell_type": "code",
      "source": [
        "class Circle:\n",
        "    PI = 3.1415926\n",
        "    name = \"Cirsle\"\n",
        "\n",
        "    def __init__(self, radius: float):\n",
        "        self.radius = radius\n",
        "\n",
        "    def calculate_perimeter(self) -> float:\n",
        "        return 2 * self.PI * self.radius\n",
        "\n",
        "show(Circle(radius=1)) # -> AttributeError: 'Circle' object has no attribute 'calculate_area'"
      ],
      "metadata": {
        "colab": {
          "base_uri": "https://localhost:8080/",
          "height": 304
        },
        "id": "DPlOdeMcpsCr",
        "outputId": "19aa1609-d7c7-4ee2-e53b-cbb469eb0349"
      },
      "execution_count": null,
      "outputs": [
        {
          "output_type": "error",
          "ename": "AttributeError",
          "evalue": "ignored",
          "traceback": [
            "\u001b[0;31m---------------------------------------------------------------------------\u001b[0m",
            "\u001b[0;31mAttributeError\u001b[0m                            Traceback (most recent call last)",
            "\u001b[0;32m<ipython-input-48-ca847f03ec6f>\u001b[0m in \u001b[0;36m<module>\u001b[0;34m\u001b[0m\n\u001b[1;32m      9\u001b[0m         \u001b[0;32mreturn\u001b[0m \u001b[0;36m2\u001b[0m \u001b[0;34m*\u001b[0m \u001b[0mself\u001b[0m\u001b[0;34m.\u001b[0m\u001b[0mPI\u001b[0m \u001b[0;34m*\u001b[0m \u001b[0mself\u001b[0m\u001b[0;34m.\u001b[0m\u001b[0mradius\u001b[0m\u001b[0;34m\u001b[0m\u001b[0;34m\u001b[0m\u001b[0m\n\u001b[1;32m     10\u001b[0m \u001b[0;34m\u001b[0m\u001b[0m\n\u001b[0;32m---> 11\u001b[0;31m \u001b[0mshow\u001b[0m\u001b[0;34m(\u001b[0m\u001b[0mCircle\u001b[0m\u001b[0;34m(\u001b[0m\u001b[0mradius\u001b[0m\u001b[0;34m=\u001b[0m\u001b[0;36m1\u001b[0m\u001b[0;34m)\u001b[0m\u001b[0;34m)\u001b[0m \u001b[0;31m# -> AttributeError: 'Circle' object has no attribute 'calculate_area'\u001b[0m\u001b[0;34m\u001b[0m\u001b[0;34m\u001b[0m\u001b[0m\n\u001b[0m",
            "\u001b[0;32m<ipython-input-42-364bfbcb95dd>\u001b[0m in \u001b[0;36mshow\u001b[0;34m(figure)\u001b[0m\n\u001b[1;32m      8\u001b[0m \u001b[0;34m\u001b[0m\u001b[0m\n\u001b[1;32m      9\u001b[0m \u001b[0;32mdef\u001b[0m \u001b[0mshow\u001b[0m\u001b[0;34m(\u001b[0m\u001b[0mfigure\u001b[0m\u001b[0;34m:\u001b[0m \u001b[0mFigure\u001b[0m\u001b[0;34m)\u001b[0m \u001b[0;34m->\u001b[0m \u001b[0;32mNone\u001b[0m\u001b[0;34m:\u001b[0m\u001b[0;34m\u001b[0m\u001b[0;34m\u001b[0m\u001b[0m\n\u001b[0;32m---> 10\u001b[0;31m     \u001b[0mprint\u001b[0m\u001b[0;34m(\u001b[0m\u001b[0;34mf'S ({figure.name}) = {figure.calculate_area()}'\u001b[0m\u001b[0;34m)\u001b[0m\u001b[0;34m\u001b[0m\u001b[0;34m\u001b[0m\u001b[0m\n\u001b[0m\u001b[1;32m     11\u001b[0m     \u001b[0mprint\u001b[0m\u001b[0;34m(\u001b[0m\u001b[0;34mf'P ({figure.name}) = {figure.calculate_perimeter()}'\u001b[0m\u001b[0;34m)\u001b[0m\u001b[0;34m\u001b[0m\u001b[0;34m\u001b[0m\u001b[0m\n",
            "\u001b[0;31mAttributeError\u001b[0m: 'Circle' object has no attribute 'calculate_area'"
          ]
        }
      ]
    },
    {
      "cell_type": "code",
      "source": [
        "check_last()"
      ],
      "metadata": {
        "colab": {
          "base_uri": "https://localhost:8080/"
        },
        "id": "YFUKTxGMp9Kw",
        "outputId": "79fda5b8-ad8d-40dc-ce86-44a3664c980c"
      },
      "execution_count": null,
      "outputs": [
        {
          "output_type": "stream",
          "name": "stdout",
          "text": [
            "temp.txt:11: \u001b[1m\u001b[31merror:\u001b[m Name \u001b[m\u001b[1m\"show\"\u001b[m is not defined  \u001b[m\u001b[33m[name-defined]\u001b[m\n",
            "\u001b[1m\u001b[31mFound 1 error in 1 file (checked 1 source file)\u001b[m\n"
          ]
        }
      ]
    },
    {
      "cell_type": "markdown",
      "source": [
        "Неявные и явные реализации протокола\n",
        "\n",
        "* Явная реализация соответствует номинальной типизации\n",
        "* Неявная - структурной\n",
        "\n",
        "\n",
        "Явная типизация аналогична работе с абстрактными классами, можно использовать реализации методов по-умолчанию:"
      ],
      "metadata": {
        "id": "iIZH3RA4qTAT"
      }
    },
    {
      "cell_type": "code",
      "source": [
        "from abc import abstractmethod\n",
        "from typing import Protocol\n",
        "\n",
        "class Readable(Protocol):\n",
        "    @abstractmethod\n",
        "    def read(self) -> str: pass\n",
        "\n",
        "    def get_size(self) -> int: return 1000\n",
        "\n",
        "class File(Readable):\n",
        "    def read(self) -> str: return 'file content'\n",
        "\n",
        "print(File().get_size())  # Выведет 1000\n",
        "\n",
        "class WrongFile(Readable):\n",
        "    def read(self) -> int: return 42"
      ],
      "metadata": {
        "colab": {
          "base_uri": "https://localhost:8080/"
        },
        "id": "U5xxLdVyqYus",
        "outputId": "13c19a51-a54d-4cbe-cf30-73bb8cf91920"
      },
      "execution_count": null,
      "outputs": [
        {
          "output_type": "stream",
          "name": "stdout",
          "text": [
            "1000\n"
          ]
        }
      ]
    },
    {
      "cell_type": "code",
      "source": [
        "check_last()"
      ],
      "metadata": {
        "colab": {
          "base_uri": "https://localhost:8080/"
        },
        "id": "vxfN4toXqsKs",
        "outputId": "04c59270-8c76-4310-9b0d-c7cf274013ce"
      },
      "execution_count": null,
      "outputs": [
        {
          "output_type": "stream",
          "name": "stdout",
          "text": [
            "temp.txt:16: \u001b[1m\u001b[31merror:\u001b[m Return type \u001b[m\u001b[1m\"int\"\u001b[m of \u001b[m\u001b[1m\"read\"\u001b[m incompatible with return type \u001b[m\u001b[1m\"str\"\u001b[m in supertype \u001b[m\u001b[1m\"Readable\"\u001b[m  \u001b[m\u001b[33m[override]\u001b[m\n",
            "\u001b[1m\u001b[31mFound 1 error in 1 file (checked 1 source file)\u001b[m\n"
          ]
        }
      ]
    },
    {
      "cell_type": "markdown",
      "source": [
        "Forward references\n",
        "\n",
        "* Иногда в коде возникает необходимость сослаться на тип, который ещё не был определён"
      ],
      "metadata": {
        "id": "hFvMjtz7q6eT"
      }
    },
    {
      "cell_type": "code",
      "source": [
        "class Foo:\n",
        "    def bar(self) -> Foo:\n",
        "        return Foo()"
      ],
      "metadata": {
        "id": "crVeodoCq-OT"
      },
      "execution_count": null,
      "outputs": []
    },
    {
      "cell_type": "code",
      "source": [
        "class Foo:\n",
        "    def bar(self) -> Bar:\n",
        "        return Bar()\n",
        "\n",
        "class Bar:\n",
        "    def foo(self) -> Foo:\n",
        "        return Foo()"
      ],
      "metadata": {
        "id": "u6ugZahOrC8n"
      },
      "execution_count": null,
      "outputs": []
    },
    {
      "cell_type": "markdown",
      "source": [
        "* Решение проблемы является использования строкового представления имени типа вместо самого типа:"
      ],
      "metadata": {
        "id": "Y0yN1ZUXrHAv"
      }
    },
    {
      "cell_type": "code",
      "source": [
        "class Foo:\n",
        "    def bar(self) -> 'Foo':\n",
        "        return Foo()"
      ],
      "metadata": {
        "id": "Jo4RpeGkrIQp"
      },
      "execution_count": null,
      "outputs": []
    },
    {
      "cell_type": "code",
      "source": [
        "class Foo:\n",
        "    def bar(self) -> 'Bar':\n",
        "        return Bar()\n",
        "\n",
        "class Bar:\n",
        "    def foo(self) -> Foo:\n",
        "        return Foo()"
      ],
      "metadata": {
        "id": "QZMxv8ZQrJ3l"
      },
      "execution_count": null,
      "outputs": []
    },
    {
      "cell_type": "markdown",
      "source": [
        "* Начиная с Python 3.7 заботу об этом может взять на себя импорт from __future__ import annotations\n",
        "\n",
        "* Он автоматически производит замену всех типов на имена-строки"
      ],
      "metadata": {
        "id": "5P7tPYDUrOZh"
      }
    },
    {
      "cell_type": "code",
      "source": [
        "from __future__ import annotations\n",
        "\n",
        "class Foo:\n",
        "    def bar(self) -> Foo:\n",
        "        return Foo()"
      ],
      "metadata": {
        "id": "0nrwafutrPCZ"
      },
      "execution_count": null,
      "outputs": []
    },
    {
      "cell_type": "markdown",
      "source": [
        "# Хранение типизированных данных"
      ],
      "metadata": {
        "id": "yPelAX_9ra2m"
      }
    },
    {
      "cell_type": "markdown",
      "source": [
        "* Хранение типизированных данных требует строгости и аккуратности\n",
        "* В простейших случаях можно воспользоваться словарём или кортежем:"
      ],
      "metadata": {
        "id": "9G8RWMCireo3"
      }
    },
    {
      "cell_type": "code",
      "source": [
        "tuple_data = (0, 'string')\n",
        "dict_data = {'int_field': 0, 'str_field': 'string'}"
      ],
      "metadata": {
        "id": "uMa-CkyArixQ"
      },
      "execution_count": null,
      "outputs": []
    },
    {
      "cell_type": "markdown",
      "source": [
        "* отсутствие именованного типа может привести к ошибке, нужно помнить, что переменная ссылается на нужную стркутуру\n",
        "\n",
        "* необходимо следить за ключами словаря и порядком аргументов кортежа, это автоматически не проверяется\n",
        "\n",
        "* Возможный вариант - именованные кортежи (Namedtuple):"
      ],
      "metadata": {
        "id": "BsNz0q6PrqP7"
      }
    },
    {
      "cell_type": "code",
      "source": [
        "from collections import namedtuple\n",
        "\n",
        "Data = namedtuple('Data', ['int_field', 'str_field'])\n",
        "named_tuple_data = Data(0, 'string')"
      ],
      "metadata": {
        "id": "Ab4NtDDHrtI4"
      },
      "execution_count": null,
      "outputs": []
    },
    {
      "cell_type": "markdown",
      "source": [
        "Проблемы этого подхода:\n",
        "\n",
        "* кортежи являются неизменяемыми\n",
        "* по кортежам можно итерироваться\n",
        "* кортежи с разными наборами ключей, но одинаковыми значениями будут считаться одинаковыми"
      ],
      "metadata": {
        "id": "FKc-hKIvrzAg"
      }
    },
    {
      "cell_type": "code",
      "source": [
        "Data2 = namedtuple('Data2', ['int_field_2', 'str_field_2'])\n",
        "\n",
        "print(*named_tuple_data)\n",
        "print(Data2(0, 'string') == named_tuple_data)"
      ],
      "metadata": {
        "colab": {
          "base_uri": "https://localhost:8080/"
        },
        "id": "ApHd95LpryE_",
        "outputId": "d13eb877-62c0-4f43-9ddf-057332cfa27a"
      },
      "execution_count": null,
      "outputs": [
        {
          "output_type": "stream",
          "name": "stdout",
          "text": [
            "0 string\n",
            "True\n"
          ]
        }
      ]
    },
    {
      "cell_type": "markdown",
      "source": [
        "# Классы данных"
      ],
      "metadata": {
        "id": "Fju_x7M3sDf9"
      }
    },
    {
      "cell_type": "markdown",
      "source": [
        "* Эти проблемы решаются созданием для данных отдельного типа\n",
        "\n",
        "* Пример типичного класса данных, описанного стандартными средствами языка:"
      ],
      "metadata": {
        "id": "FO8lXX23sGGa"
      }
    },
    {
      "cell_type": "code",
      "source": [
        "class Data:\n",
        "    def __init__(self, int_field: int, str_field: str):\n",
        "        self.int_field = int_field\n",
        "        self.str_field = str_field\n",
        "\n",
        "    def __repr__(self):\n",
        "        return f\"{self.__class__.__name__}(int_field={self.int_field:d}, str_field='{self.str_field:s}')\"\n",
        "\n",
        "    def __str__(self):\n",
        "        return self.__repr__()\n",
        "\n",
        "    def __eq__(self, other):\n",
        "        return self.int_field == other.int_field and self.str_field == other.str_field"
      ],
      "metadata": {
        "id": "lfbUMEbQsKj2"
      },
      "execution_count": null,
      "outputs": []
    },
    {
      "cell_type": "markdown",
      "source": [
        "## Классы данных\n",
        "\n",
        "* Для решения проблем хранения типизированных данных в Python 3.7 были добавлены классы данных\n",
        "* Этот механизм позволяет автоматически генерировать классы с типизированными полями со значениями по-умолчанию\n",
        "* Пример того же класса данных, описанного с помощью декоратора @dataclass:\n"
      ],
      "metadata": {
        "id": "fMzI70b1sWWW"
      }
    },
    {
      "cell_type": "code",
      "source": [
        "from dataclasses import dataclass\n",
        "\n",
        "@dataclass\n",
        "class Data:\n",
        "    int_field: int\n",
        "    str_field: str"
      ],
      "metadata": {
        "id": "rNrZYfyBshwk"
      },
      "execution_count": null,
      "outputs": []
    },
    {
      "cell_type": "markdown",
      "source": [
        "* Этот класс обладает аналогичной функциональностью\n",
        "\n",
        "* Аннотации типов в dataclass обязательны, поля без типов будут проигнорированы\n",
        "\n",
        "* Полям можно задавать значения по-умолчанию:"
      ],
      "metadata": {
        "id": "O59oTljmslIG"
      }
    },
    {
      "cell_type": "code",
      "source": [
        "@dataclass\n",
        "class Data:\n",
        "    int_field: int = 10\n",
        "    str_field: str = 'string'\n",
        "\n",
        "Data()"
      ],
      "metadata": {
        "colab": {
          "base_uri": "https://localhost:8080/"
        },
        "id": "QmCgsGcysomr",
        "outputId": "33108179-837f-498b-ac3e-0006309f8b98"
      },
      "execution_count": null,
      "outputs": [
        {
          "output_type": "execute_result",
          "data": {
            "text/plain": [
              "Data(int_field=10, str_field='string')"
            ]
          },
          "metadata": {},
          "execution_count": 62
        }
      ]
    },
    {
      "cell_type": "markdown",
      "source": [
        "## Классы данных\n",
        "\n",
        "\n",
        "Есть параметры для управление генерацией класса (все методы, определённые пользователем, перетирают реализации по-умолчанию):\n",
        "\n",
        "* frozen - сделать класс неизменяемым или нет (по-умолчанию False)\n",
        "* init - сгенерировать для класса метод __init__ (по-умолчанию True)\n",
        "* repr - сгенерировать для класса метод __repr__ (по-умолчанию True)\n",
        "* eq - сгенерировать для класса метод __eq__, сраниваются типы и значения как кортежи (по-умолчанию True)\n",
        "* order - сгенерировать методы __lt__, __le__, __gt__ и __ge__, сравнивая значения как кортежи (по-умолчанию False)\n",
        "* unsafe_hash - использовать небезопасные поля в подсчёте хэша объекта в методе __hash__ (по-умолчанию False)\n"
      ],
      "metadata": {
        "id": "FEjecnUSstJa"
      }
    },
    {
      "cell_type": "code",
      "source": [
        "@dataclass(frozen=True, order=True)\n",
        "class Data:\n",
        "    int_field: int = 10\n",
        "    str_field: str = 'string'\n",
        "\n",
        "#Data().int_field = 5 -> FrozenInstanceError: cannot assign to field 'int_field'\n",
        "\n",
        "Data(10) < Data(20)"
      ],
      "metadata": {
        "colab": {
          "base_uri": "https://localhost:8080/"
        },
        "id": "A532Dbfps8xX",
        "outputId": "550ea141-f927-4b11-d80b-5459ae5c3450"
      },
      "execution_count": null,
      "outputs": [
        {
          "output_type": "execute_result",
          "data": {
            "text/plain": [
              "True"
            ]
          },
          "metadata": {},
          "execution_count": 63
        }
      ]
    },
    {
      "cell_type": "markdown",
      "source": [
        "* Классы данных можно преобразовывать в словари и кортежи:"
      ],
      "metadata": {
        "id": "MEILM78PtOtb"
      }
    },
    {
      "cell_type": "code",
      "source": [
        "from dataclasses import asdict, astuple\n",
        "\n",
        "print(asdict(Data(20)))\n",
        "print(astuple(Data(20)))"
      ],
      "metadata": {
        "colab": {
          "base_uri": "https://localhost:8080/"
        },
        "id": "BQ27CBzLtP70",
        "outputId": "f0cd40e9-b2ce-47a7-f58a-0ca2380224b6"
      },
      "execution_count": null,
      "outputs": [
        {
          "output_type": "stream",
          "name": "stdout",
          "text": [
            "{'int_field': 20, 'str_field': 'string'}\n",
            "(20, 'string')\n"
          ]
        }
      ]
    },
    {
      "cell_type": "markdown",
      "source": [
        "Создание изменяемых полей\n",
        "\n",
        "* Создавать поля с изменяемыми типами и значениями по-умолчанию не так просто, как константные"
      ],
      "metadata": {
        "id": "0ol5fqp2tSPN"
      }
    },
    {
      "cell_type": "code",
      "source": [
        "@dataclass\n",
        "class Data:\n",
        "    list_field: List[int] = []"
      ],
      "metadata": {
        "id": "3N9gbBVRtWEx"
      },
      "execution_count": null,
      "outputs": []
    },
    {
      "cell_type": "markdown",
      "source": [
        "* Корректное решение проблемы подсказывается в сообщении об ошибке:"
      ],
      "metadata": {
        "id": "qL1eHdSLtau2"
      }
    },
    {
      "cell_type": "code",
      "source": [
        "from dataclasses import field\n",
        "\n",
        "@dataclass\n",
        "class Data:\n",
        "    list_field: List[int] = field(default_factory=list)"
      ],
      "metadata": {
        "id": "8M3N4rSStcn4"
      },
      "execution_count": null,
      "outputs": []
    },
    {
      "cell_type": "markdown",
      "source": [
        "## Пост-инициализация\n",
        "\n",
        "* При создании объекта может потребоваться выполнить после __init__ по-умолчанию некоторую логику, не переписывая весь метод\n",
        "* Для этого можно определить метод __post_init__, который __init__ (если он определён) всегда вызывает после себя\n",
        "* Можно задавать параметры для пост-инициализации: это поля типа InitVar, которые передаются в __post_init__\n",
        "* В остальном классе эти поля игнорируются"
      ],
      "metadata": {
        "id": "eZ6TRRpEtr2g"
      }
    },
    {
      "cell_type": "code",
      "source": [
        "from dataclasses import InitVar\n",
        "\n",
        "@dataclass\n",
        "class Data:\n",
        "    float_field: float\n",
        "    int_field: InitVar[int]\n",
        "\n",
        "    def __post_init__(self, int_field: int) -> None:\n",
        "        print(f'Created Data object with float value {self.float_field:.{int_field}f}')\n",
        "\n",
        "d = Data(3.141562, 2)"
      ],
      "metadata": {
        "colab": {
          "base_uri": "https://localhost:8080/"
        },
        "id": "3ZET230jt1bI",
        "outputId": "dd643375-4728-438b-cc60-028c0c83d42c"
      },
      "execution_count": null,
      "outputs": [
        {
          "output_type": "stream",
          "name": "stdout",
          "text": [
            "Created Data object with float value 3.14\n"
          ]
        }
      ]
    },
    {
      "cell_type": "markdown",
      "source": [
        "## Наследование классов данных\n",
        "\n",
        "* Классы данных наследуются от object и могут использоваться для получения новых классов путём наследования\n",
        "* При этом наследуюемый класс тоже нужно помечать декоратором @dataclass\n",
        "* Декоратор проходит по всем родительским классам (при множественном наследовании порядок MRO), для каждого класса поля сохраняются в упорядоченный словарь, остаются самые последние версии полей\n",
        "* По этой причине, если поле в родительском классе определялось со значением по-умолчанию, то и в дочернем классе должно быть так (или останется старое значение)"
      ],
      "metadata": {
        "id": "WAOLYZyFt4_4"
      }
    },
    {
      "cell_type": "code",
      "source": [
        "@dataclass\n",
        "class DataA:\n",
        "    field_a: str = 'default'\n",
        "    field_b: str = None\n",
        "\n",
        "@dataclass\n",
        "class DataB(DataA):\n",
        "    field_a: int\n",
        "    field_b: str\n",
        "    field_c: int = None"
      ],
      "metadata": {
        "id": "PghbSqKIuFs-"
      },
      "execution_count": null,
      "outputs": []
    },
    {
      "cell_type": "markdown",
      "source": [
        "## Типизированные словари TypedDict\n",
        "\n",
        "* Схожими возможностями обладают типизированные словари (TypedDict)"
      ],
      "metadata": {
        "id": "tBe54msbuO2d"
      }
    },
    {
      "cell_type": "code",
      "source": [
        "from typing import TypedDict\n",
        "\n",
        "class Data(TypedDict):\n",
        "    int_field: int\n",
        "    str_field: str\n",
        "\n",
        "print(Data(int_field=10, str_field='string'))"
      ],
      "metadata": {
        "colab": {
          "base_uri": "https://localhost:8080/"
        },
        "id": "MhNpQrVpuT7N",
        "outputId": "5b6469c9-4b42-4583-bfe0-1d306ab1a64c"
      },
      "execution_count": null,
      "outputs": [
        {
          "output_type": "stream",
          "name": "stdout",
          "text": [
            "{'int_field': 10, 'str_field': 'string'}\n"
          ]
        }
      ]
    },
    {
      "cell_type": "markdown",
      "source": [
        "# Сторонние альтернативы классам данных\n",
        "\n",
        "* Использование классов данных не требует дополнительных зависимостей, что иногда может быть важным\n",
        "* Но классы данных, как и прочие решения из стандартной библиотеки, не идеальны, например, не справляются с валидацией данных без написания громоздкого дополнительного кода\n",
        "* Есть более развитые сторонние библиотеки для работы с типизированными данными, наиболее популярны attrs и pydantic\n",
        "* На самом деле attrs появилась до Python 3.7, и классы данных создавались под её влиянием и с помощью её разработчиков\n",
        "* Ссылка на хорошую статью про сравнение классов данных и библиотек attrs и pydantic\n",
        "* Рассмотрим подробнее модуль pydantic, поскольку в связке с Fast API он особенно полезен при web-разработке"
      ],
      "metadata": {
        "id": "UdwXZx11ujEy"
      }
    },
    {
      "cell_type": "markdown",
      "source": [
        "## Модуль pydantic\n",
        "\n",
        "* Создание объектов производится наследованием от базового класса:"
      ],
      "metadata": {
        "id": "WPmAXM8Ju5pF"
      }
    },
    {
      "cell_type": "code",
      "source": [
        "from typing import Optional, List\n",
        "from pydantic import BaseModel\n",
        "\n",
        "class Data(BaseModel):\n",
        "    int_field: int\n",
        "    str_field: str\n",
        "    list_field: Optional[List[str]]\n",
        "\n",
        "Data(**{'int_field': 10, 'str_field': 'string'})"
      ],
      "metadata": {
        "colab": {
          "base_uri": "https://localhost:8080/"
        },
        "id": "FlIEwjaku-JO",
        "outputId": "b34d7dce-cf6d-43b1-aa0c-8957ae14ea47"
      },
      "execution_count": null,
      "outputs": [
        {
          "output_type": "execute_result",
          "data": {
            "text/plain": [
              "Data(int_field=10, str_field='string', list_field=None)"
            ]
          },
          "metadata": {},
          "execution_count": 70
        }
      ]
    },
    {
      "cell_type": "markdown",
      "source": [
        "* Типы входных данных автоматически валидируются:"
      ],
      "metadata": {
        "id": "VhQdrrcIvHs5"
      }
    },
    {
      "cell_type": "code",
      "source": [
        "Data(**{'int_field': 'string', 'str_field': 'string'})"
      ],
      "metadata": {
        "colab": {
          "base_uri": "https://localhost:8080/",
          "height": 235
        },
        "id": "26YMK2NUvJjI",
        "outputId": "51397b86-466a-470b-f331-80e5d3a45cbe"
      },
      "execution_count": null,
      "outputs": [
        {
          "output_type": "error",
          "ename": "ValidationError",
          "evalue": "ignored",
          "traceback": [
            "\u001b[0;31m---------------------------------------------------------------------------\u001b[0m",
            "\u001b[0;31mValidationError\u001b[0m                           Traceback (most recent call last)",
            "\u001b[0;32m<ipython-input-72-b8d0f8d9b474>\u001b[0m in \u001b[0;36m<module>\u001b[0;34m\u001b[0m\n\u001b[0;32m----> 1\u001b[0;31m \u001b[0mData\u001b[0m\u001b[0;34m(\u001b[0m\u001b[0;34m**\u001b[0m\u001b[0;34m{\u001b[0m\u001b[0;34m'int_field'\u001b[0m\u001b[0;34m:\u001b[0m \u001b[0;34m'string'\u001b[0m\u001b[0;34m,\u001b[0m \u001b[0;34m'str_field'\u001b[0m\u001b[0;34m:\u001b[0m \u001b[0;34m'string'\u001b[0m\u001b[0;34m}\u001b[0m\u001b[0;34m)\u001b[0m\u001b[0;34m\u001b[0m\u001b[0;34m\u001b[0m\u001b[0m\n\u001b[0m",
            "\u001b[0;32m/usr/local/lib/python3.8/dist-packages/pydantic/main.cpython-38-x86_64-linux-gnu.so\u001b[0m in \u001b[0;36mpydantic.main.BaseModel.__init__\u001b[0;34m()\u001b[0m\n",
            "\u001b[0;31mValidationError\u001b[0m: 1 validation error for Data\nint_field\n  value is not a valid integer (type=type_error.integer)"
          ]
        }
      ]
    },
    {
      "cell_type": "markdown",
      "source": [
        "* И даже исправляются, если преобразование известно:"
      ],
      "metadata": {
        "id": "HBgGr6WwvNQe"
      }
    },
    {
      "cell_type": "code",
      "source": [
        "Data(**{'int_field': '10', 'str_field': 'string'})"
      ],
      "metadata": {
        "colab": {
          "base_uri": "https://localhost:8080/"
        },
        "id": "lbJ6zm1zvPSD",
        "outputId": "ccd3e347-cb61-4853-87d7-e5fb9511ade5"
      },
      "execution_count": null,
      "outputs": [
        {
          "output_type": "execute_result",
          "data": {
            "text/plain": [
              "Data(int_field=10, str_field='string', list_field=None)"
            ]
          },
          "metadata": {},
          "execution_count": 73
        }
      ]
    },
    {
      "cell_type": "markdown",
      "source": [
        "## Вложенные pydantic-классы\n",
        "\n",
        "* Легко создавать и использовать рекурсивные модели данных с утиной типизацией:"
      ],
      "metadata": {
        "id": "0qfhN1rlvSxa"
      }
    },
    {
      "cell_type": "code",
      "source": [
        "from typing import List\n",
        "from pydantic import BaseModel\n",
        "\n",
        "class Foo(BaseModel):\n",
        "    count: int\n",
        "    size: float = None\n",
        "\n",
        "class Bar(BaseModel):\n",
        "    apple = 'x'\n",
        "    banana = 'y'\n",
        "\n",
        "class Spam(BaseModel):\n",
        "    foo: Foo\n",
        "    bars: List[Bar]\n",
        "\n",
        "m = Spam(foo={'count': 4}, bars=[{'apple': 'x1'}, {'apple': 'x2'}])\n",
        "\n",
        "print(m, '\\n')\n",
        "print(m.dict())"
      ],
      "metadata": {
        "colab": {
          "base_uri": "https://localhost:8080/"
        },
        "id": "50GkKBaEvW_k",
        "outputId": "b6ddf074-6fd3-4a8a-e801-71dcadf88f9a"
      },
      "execution_count": null,
      "outputs": [
        {
          "output_type": "stream",
          "name": "stdout",
          "text": [
            "foo=Foo(count=4, size=None) bars=[Bar(apple='x1', banana='y'), Bar(apple='x2', banana='y')] \n",
            "\n",
            "{'foo': {'count': 4, 'size': None}, 'bars': [{'apple': 'x1', 'banana': 'y'}, {'apple': 'x2', 'banana': 'y'}]}\n"
          ]
        }
      ]
    },
    {
      "cell_type": "markdown",
      "source": [
        "## Валидация входных данных\n",
        "\n",
        "* Для более сложных случаев описываются методы валидации:"
      ],
      "metadata": {
        "id": "LK2Hve_evk_x"
      }
    },
    {
      "cell_type": "code",
      "source": [
        "from pydantic import BaseModel, validator\n",
        "from typing import Optional\n",
        "\n",
        "class Data(BaseModel):\n",
        "    str_field: str\n",
        "        \n",
        "    @validator('str_field')\n",
        "    def str_field_validator(cls, value):\n",
        "        if len(value) != 10:\n",
        "            raise ValueError('Phone number must have 10 digits')\n",
        "        return value\n",
        "\n",
        "Data(str_field='999999')"
      ],
      "metadata": {
        "id": "R5G6XC0hvpr3"
      },
      "execution_count": null,
      "outputs": []
    },
    {
      "cell_type": "markdown",
      "source": [
        "## Дополнительные типы\n",
        "\n",
        "* pydanctic предназначен для работы с реальными данными, поэтому в нём есть встроенные полезные типы:"
      ],
      "metadata": {
        "id": "bMtDXdhHvwjC"
      }
    },
    {
      "cell_type": "code",
      "source": [
        "from pydantic import (\n",
        "    FilePath, HttpUrl, EmailStr, color,\n",
        "    IPvAnyAddress, NegativeInt, PositiveFloat,\n",
        ")"
      ],
      "metadata": {
        "id": "0B0cv9eVv0gL"
      },
      "execution_count": null,
      "outputs": []
    },
    {
      "cell_type": "code",
      "source": [
        "from pydantic import BaseModel, ValidationError\n",
        "\n",
        "class Data(BaseModel):\n",
        "    color: color.Color\n",
        "\n",
        "print(Data(color='purple'))\n",
        "print(Data(color='hsl(180, 100%, 50%)'))\n",
        "print(Data(color='hsl(179, 100%, 50%)'))"
      ],
      "metadata": {
        "colab": {
          "base_uri": "https://localhost:8080/"
        },
        "id": "AtJn5pyEv2Rz",
        "outputId": "b377187a-00f5-472c-979d-624a1fed8c1f"
      },
      "execution_count": null,
      "outputs": [
        {
          "output_type": "stream",
          "name": "stdout",
          "text": [
            "color=Color('purple', rgb=(128, 0, 128))\n",
            "color=Color('cyan', rgb=(0, 255, 255))\n",
            "color=Color('#00fffb', rgb=(0, 255, 251))\n"
          ]
        }
      ]
    },
    {
      "cell_type": "markdown",
      "source": [
        "## Парсинг переменных окружения\n",
        "\n",
        "* pydantic позволяет парсить данные из файлов типа .env и напрямую приводить их к объектам типа BaseSettings\n",
        "* Для этого нужно дополнительно установить модуль python-dotenv"
      ],
      "metadata": {
        "id": "EQ6jXffVv_ro"
      }
    },
    {
      "cell_type": "code",
      "source": [
        "with open('.env', 'w') as fout:\n",
        "    fout.write('''\n",
        "        login=MelLain\n",
        "        password=Password\n",
        "    \\n''')"
      ],
      "metadata": {
        "id": "TEjqNI4WwGDP"
      },
      "execution_count": null,
      "outputs": []
    },
    {
      "cell_type": "code",
      "source": [
        "!pip install pydantic"
      ],
      "metadata": {
        "colab": {
          "base_uri": "https://localhost:8080/"
        },
        "id": "G7x52Ec6wjas",
        "outputId": "16ac4473-4703-49a5-8a58-82c57d962b68"
      },
      "execution_count": null,
      "outputs": [
        {
          "output_type": "stream",
          "name": "stdout",
          "text": [
            "Looking in indexes: https://pypi.org/simple, https://us-python.pkg.dev/colab-wheels/public/simple/\n",
            "Requirement already satisfied: pydantic in /usr/local/lib/python3.8/dist-packages (1.10.2)\n",
            "Requirement already satisfied: typing-extensions>=4.1.0 in /usr/local/lib/python3.8/dist-packages (from pydantic) (4.4.0)\n"
          ]
        }
      ]
    },
    {
      "cell_type": "code",
      "source": [
        "from pydantic import BaseSettings\n",
        "\n",
        "class Settings(BaseSettings):\n",
        "    login: str\n",
        "    password: str\n",
        "\n",
        "    class Config:\n",
        "        env_file = '.env'\n",
        "        env_file_encoding = 'utf-8'\n",
        "\n",
        "print(Settings())"
      ],
      "metadata": {
        "id": "DkxZlYxLwOVF"
      },
      "execution_count": null,
      "outputs": []
    },
    {
      "cell_type": "markdown",
      "source": [
        "## Генерация схемы данных"
      ],
      "metadata": {
        "id": "meTRuzXKwr3z"
      }
    },
    {
      "cell_type": "code",
      "source": [
        "from enum import Enum\n",
        "from pydantic import BaseModel, Field\n",
        "\n",
        "class Counter(BaseModel):\n",
        "    count: int\n",
        "    size: float = None\n",
        "\n",
        "class Gender(str, Enum):\n",
        "    male = 'male'\n",
        "    female = 'female'\n",
        "    other = 'other'\n",
        "    not_given = 'not_given'\n",
        "\n",
        "class Model(BaseModel):\n",
        "    counter: Counter = Field(...)\n",
        "    gender: Gender = Field(None, alias='Gender')\n",
        "    snap: int = Field(42, title='The Snap', gt=30, lt=50)\n",
        "\n",
        "    class Config:\n",
        "        title = 'Main'\n",
        "\n",
        "print(Model.schema_json(indent=2))"
      ],
      "metadata": {
        "id": "ToNJRNIGwuO_"
      },
      "execution_count": null,
      "outputs": []
    }
  ]
}