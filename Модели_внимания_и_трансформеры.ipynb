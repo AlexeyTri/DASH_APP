{
  "nbformat": 4,
  "nbformat_minor": 0,
  "metadata": {
    "colab": {
      "provenance": [],
      "authorship_tag": "ABX9TyP+co3Nhtw4vlvYzG6QeiI9",
      "include_colab_link": true
    },
    "kernelspec": {
      "name": "python3",
      "display_name": "Python 3"
    },
    "language_info": {
      "name": "python"
    }
  },
  "cells": [
    {
      "cell_type": "markdown",
      "metadata": {
        "id": "view-in-github",
        "colab_type": "text"
      },
      "source": [
        "<a href=\"https://colab.research.google.com/github/AlexeyTri/DASH_APP/blob/master/%D0%9C%D0%BE%D0%B4%D0%B5%D0%BB%D0%B8_%D0%B2%D0%BD%D0%B8%D0%BC%D0%B0%D0%BD%D0%B8%D1%8F_%D0%B8_%D1%82%D1%80%D0%B0%D0%BD%D1%81%D1%84%D0%BE%D1%80%D0%BC%D0%B5%D1%80%D1%8B.ipynb\" target=\"_parent\"><img src=\"https://colab.research.google.com/assets/colab-badge.svg\" alt=\"Open In Colab\"/></a>"
      ]
    },
    {
      "cell_type": "markdown",
      "source": [
        "GOOGLE drive не позволяет хранить большие файлы, для доступа к большим файлам используется библиотека DVC"
      ],
      "metadata": {
        "id": "iZmuaFBDhsMJ"
      }
    },
    {
      "cell_type": "code",
      "execution_count": 1,
      "metadata": {
        "id": "Yx0obdkZUEdP",
        "colab": {
          "base_uri": "https://localhost:8080/"
        },
        "outputId": "b87339b9-cddd-441f-b30e-d1e9694afa9e"
      },
      "outputs": [
        {
          "output_type": "stream",
          "name": "stdout",
          "text": [
            "Looking in indexes: https://pypi.org/simple, https://us-python.pkg.dev/colab-wheels/public/simple/\n",
            "Requirement already satisfied: dvc[gdrive] in /usr/local/lib/python3.8/dist-packages (1.11.1)\n",
            "Requirement already satisfied: pyasn1>=0.4.1 in /usr/local/lib/python3.8/dist-packages (from dvc[gdrive]) (0.4.8)\n",
            "Requirement already satisfied: pathspec>=0.6.0 in /usr/local/lib/python3.8/dist-packages (from dvc[gdrive]) (0.10.3)\n",
            "Requirement already satisfied: dictdiffer>=0.8.1 in /usr/local/lib/python3.8/dist-packages (from dvc[gdrive]) (0.9.0)\n",
            "Requirement already satisfied: nanotime>=0.5.2 in /usr/local/lib/python3.8/dist-packages (from dvc[gdrive]) (0.5.2)\n",
            "Requirement already satisfied: pydot>=1.2.4 in /usr/local/lib/python3.8/dist-packages (from dvc[gdrive]) (1.3.0)\n",
            "Requirement already satisfied: packaging>=19.0 in /usr/local/lib/python3.8/dist-packages (from dvc[gdrive]) (21.3)\n",
            "Requirement already satisfied: voluptuous>=0.11.7 in /usr/local/lib/python3.8/dist-packages (from dvc[gdrive]) (0.13.1)\n",
            "Requirement already satisfied: tabulate>=0.8.7 in /usr/local/lib/python3.8/dist-packages (from dvc[gdrive]) (0.8.10)\n",
            "Requirement already satisfied: zc.lockfile>=1.2.1 in /usr/local/lib/python3.8/dist-packages (from dvc[gdrive]) (2.0)\n",
            "Requirement already satisfied: networkx<2.5,>=2.1 in /usr/local/lib/python3.8/dist-packages (from dvc[gdrive]) (2.4)\n",
            "Requirement already satisfied: shortuuid>=0.5.0 in /usr/local/lib/python3.8/dist-packages (from dvc[gdrive]) (1.0.11)\n",
            "Requirement already satisfied: python-benedict>=0.21.1 in /usr/local/lib/python3.8/dist-packages (from dvc[gdrive]) (0.27.1)\n",
            "Requirement already satisfied: pyparsing==2.4.7 in /usr/local/lib/python3.8/dist-packages (from dvc[gdrive]) (2.4.7)\n",
            "Requirement already satisfied: requests>=2.22.0 in /usr/local/lib/python3.8/dist-packages (from dvc[gdrive]) (2.28.1)\n",
            "Requirement already satisfied: toml>=0.10.1 in /usr/local/lib/python3.8/dist-packages (from dvc[gdrive]) (0.10.2)\n",
            "Requirement already satisfied: setuptools>=34.0.0 in /usr/local/lib/python3.8/dist-packages (from dvc[gdrive]) (57.4.0)\n",
            "Requirement already satisfied: funcy>=1.14 in /usr/local/lib/python3.8/dist-packages (from dvc[gdrive]) (1.17)\n",
            "Requirement already satisfied: rich>=3.0.5 in /usr/local/lib/python3.8/dist-packages (from dvc[gdrive]) (12.6.0)\n",
            "Requirement already satisfied: colorama>=0.3.9 in /usr/local/lib/python3.8/dist-packages (from dvc[gdrive]) (0.4.6)\n",
            "Requirement already satisfied: flufl.lock<4,>=3.2 in /usr/local/lib/python3.8/dist-packages (from dvc[gdrive]) (3.2)\n",
            "Requirement already satisfied: dulwich>=0.20.14 in /usr/local/lib/python3.8/dist-packages (from dvc[gdrive]) (0.20.50)\n",
            "Requirement already satisfied: gitpython>3 in /usr/local/lib/python3.8/dist-packages (from dvc[gdrive]) (3.1.29)\n",
            "Requirement already satisfied: jsonpath-ng>=1.5.1 in /usr/local/lib/python3.8/dist-packages (from dvc[gdrive]) (1.5.3)\n",
            "Requirement already satisfied: appdirs>=1.4.3 in /usr/local/lib/python3.8/dist-packages (from dvc[gdrive]) (1.4.4)\n",
            "Requirement already satisfied: grandalf==0.6 in /usr/local/lib/python3.8/dist-packages (from dvc[gdrive]) (0.6)\n",
            "Requirement already satisfied: configobj>=5.0.6 in /usr/local/lib/python3.8/dist-packages (from dvc[gdrive]) (5.0.6)\n",
            "Requirement already satisfied: shtab<2,>=1.3.2 in /usr/local/lib/python3.8/dist-packages (from dvc[gdrive]) (1.5.8)\n",
            "Requirement already satisfied: typing-extensions>=3.7.4 in /usr/local/lib/python3.8/dist-packages (from dvc[gdrive]) (4.4.0)\n",
            "Requirement already satisfied: tqdm<5,>=4.45.0 in /usr/local/lib/python3.8/dist-packages (from dvc[gdrive]) (4.64.1)\n",
            "Requirement already satisfied: flatten-dict<1,>=0.3.0 in /usr/local/lib/python3.8/dist-packages (from dvc[gdrive]) (0.4.2)\n",
            "Requirement already satisfied: dpath<3,>=2.0.1 in /usr/local/lib/python3.8/dist-packages (from dvc[gdrive]) (2.1.2)\n",
            "Requirement already satisfied: ruamel.yaml>=0.16.1 in /usr/local/lib/python3.8/dist-packages (from dvc[gdrive]) (0.17.21)\n",
            "Requirement already satisfied: ply>=3.9 in /usr/local/lib/python3.8/dist-packages (from dvc[gdrive]) (3.11)\n",
            "Requirement already satisfied: pygtrie==2.3.2 in /usr/local/lib/python3.8/dist-packages (from dvc[gdrive]) (2.3.2)\n",
            "Requirement already satisfied: distro>=1.3.0 in /usr/local/lib/python3.8/dist-packages (from dvc[gdrive]) (1.8.0)\n",
            "Requirement already satisfied: six>=1.13.0 in /usr/local/lib/python3.8/dist-packages (from dvc[gdrive]) (1.15.0)\n",
            "Requirement already satisfied: pydrive2>=1.6.3 in /usr/local/lib/python3.8/dist-packages (from dvc[gdrive]) (1.15.0)\n",
            "Requirement already satisfied: future in /usr/local/lib/python3.8/dist-packages (from grandalf==0.6->dvc[gdrive]) (0.16.0)\n",
            "Requirement already satisfied: urllib3>=1.25 in /usr/local/lib/python3.8/dist-packages (from dulwich>=0.20.14->dvc[gdrive]) (1.26.13)\n",
            "Requirement already satisfied: atpublic in /usr/local/lib/python3.8/dist-packages (from flufl.lock<4,>=3.2->dvc[gdrive]) (3.1.1)\n",
            "Requirement already satisfied: gitdb<5,>=4.0.1 in /usr/local/lib/python3.8/dist-packages (from gitpython>3->dvc[gdrive]) (4.0.10)\n",
            "Requirement already satisfied: smmap<6,>=3.0.1 in /usr/local/lib/python3.8/dist-packages (from gitdb<5,>=4.0.1->gitpython>3->dvc[gdrive]) (5.0.0)\n",
            "Requirement already satisfied: decorator in /usr/local/lib/python3.8/dist-packages (from jsonpath-ng>=1.5.1->dvc[gdrive]) (4.4.2)\n",
            "Requirement already satisfied: pyOpenSSL>=19.1.0 in /usr/local/lib/python3.8/dist-packages (from pydrive2>=1.6.3->dvc[gdrive]) (22.1.0)\n",
            "Requirement already satisfied: PyYAML>=3.0 in /usr/local/lib/python3.8/dist-packages (from pydrive2>=1.6.3->dvc[gdrive]) (6.0)\n",
            "Requirement already satisfied: google-api-python-client>=1.12.5 in /usr/local/lib/python3.8/dist-packages (from pydrive2>=1.6.3->dvc[gdrive]) (1.12.11)\n",
            "Requirement already satisfied: oauth2client>=4.0.0 in /usr/local/lib/python3.8/dist-packages (from pydrive2>=1.6.3->dvc[gdrive]) (4.1.3)\n",
            "Requirement already satisfied: httplib2<1dev,>=0.15.0 in /usr/local/lib/python3.8/dist-packages (from google-api-python-client>=1.12.5->pydrive2>=1.6.3->dvc[gdrive]) (0.17.4)\n",
            "Requirement already satisfied: uritemplate<4dev,>=3.0.0 in /usr/local/lib/python3.8/dist-packages (from google-api-python-client>=1.12.5->pydrive2>=1.6.3->dvc[gdrive]) (3.0.1)\n",
            "Requirement already satisfied: google-auth<3dev,>=1.16.0 in /usr/local/lib/python3.8/dist-packages (from google-api-python-client>=1.12.5->pydrive2>=1.6.3->dvc[gdrive]) (2.15.0)\n",
            "Requirement already satisfied: google-auth-httplib2>=0.0.3 in /usr/local/lib/python3.8/dist-packages (from google-api-python-client>=1.12.5->pydrive2>=1.6.3->dvc[gdrive]) (0.0.4)\n",
            "Requirement already satisfied: google-api-core<3dev,>=1.21.0 in /usr/local/lib/python3.8/dist-packages (from google-api-python-client>=1.12.5->pydrive2>=1.6.3->dvc[gdrive]) (2.8.2)\n",
            "Requirement already satisfied: protobuf<5.0.0dev,>=3.15.0 in /usr/local/lib/python3.8/dist-packages (from google-api-core<3dev,>=1.21.0->google-api-python-client>=1.12.5->pydrive2>=1.6.3->dvc[gdrive]) (3.19.6)\n",
            "Requirement already satisfied: googleapis-common-protos<2.0dev,>=1.56.2 in /usr/local/lib/python3.8/dist-packages (from google-api-core<3dev,>=1.21.0->google-api-python-client>=1.12.5->pydrive2>=1.6.3->dvc[gdrive]) (1.57.0)\n",
            "Requirement already satisfied: rsa<5,>=3.1.4 in /usr/local/lib/python3.8/dist-packages (from google-auth<3dev,>=1.16.0->google-api-python-client>=1.12.5->pydrive2>=1.6.3->dvc[gdrive]) (4.9)\n",
            "Requirement already satisfied: pyasn1-modules>=0.2.1 in /usr/local/lib/python3.8/dist-packages (from google-auth<3dev,>=1.16.0->google-api-python-client>=1.12.5->pydrive2>=1.6.3->dvc[gdrive]) (0.2.8)\n",
            "Requirement already satisfied: cachetools<6.0,>=2.0.0 in /usr/local/lib/python3.8/dist-packages (from google-auth<3dev,>=1.16.0->google-api-python-client>=1.12.5->pydrive2>=1.6.3->dvc[gdrive]) (5.2.0)\n",
            "Requirement already satisfied: cryptography<39,>=38.0.0 in /usr/local/lib/python3.8/dist-packages (from pyOpenSSL>=19.1.0->pydrive2>=1.6.3->dvc[gdrive]) (38.0.4)\n",
            "Requirement already satisfied: cffi>=1.12 in /usr/local/lib/python3.8/dist-packages (from cryptography<39,>=38.0.0->pyOpenSSL>=19.1.0->pydrive2>=1.6.3->dvc[gdrive]) (1.15.1)\n",
            "Requirement already satisfied: pycparser in /usr/local/lib/python3.8/dist-packages (from cffi>=1.12->cryptography<39,>=38.0.0->pyOpenSSL>=19.1.0->pydrive2>=1.6.3->dvc[gdrive]) (2.21)\n",
            "Requirement already satisfied: python-dateutil<3.0.0,>=2.8.0 in /usr/local/lib/python3.8/dist-packages (from python-benedict>=0.21.1->dvc[gdrive]) (2.8.2)\n",
            "Requirement already satisfied: openpyxl<4.0.0,>=3.0.0 in /usr/local/lib/python3.8/dist-packages (from python-benedict>=0.21.1->dvc[gdrive]) (3.0.10)\n",
            "Requirement already satisfied: python-slugify<8.0.0,>=6.0.1 in /usr/local/lib/python3.8/dist-packages (from python-benedict>=0.21.1->dvc[gdrive]) (7.0.0)\n",
            "Requirement already satisfied: python-fsutil<1.0.0,>=0.6.0 in /usr/local/lib/python3.8/dist-packages (from python-benedict>=0.21.1->dvc[gdrive]) (0.8.0)\n",
            "Requirement already satisfied: boto3<2.0.0,>=1.24.89 in /usr/local/lib/python3.8/dist-packages (from python-benedict>=0.21.1->dvc[gdrive]) (1.26.27)\n",
            "Requirement already satisfied: xlrd<3.0.0,>=2.0.0 in /usr/local/lib/python3.8/dist-packages (from python-benedict>=0.21.1->dvc[gdrive]) (2.0.1)\n",
            "Requirement already satisfied: phonenumbers<9.0.0,>=8.12.0 in /usr/local/lib/python3.8/dist-packages (from python-benedict>=0.21.1->dvc[gdrive]) (8.13.2)\n",
            "Requirement already satisfied: xmltodict<1.0.0,>=0.12.0 in /usr/local/lib/python3.8/dist-packages (from python-benedict>=0.21.1->dvc[gdrive]) (0.13.0)\n",
            "Requirement already satisfied: mailchecker<6.0.0,>=4.1.0 in /usr/local/lib/python3.8/dist-packages (from python-benedict>=0.21.1->dvc[gdrive]) (5.0.5)\n",
            "Requirement already satisfied: ftfy<7.0.0,>=6.0.0 in /usr/local/lib/python3.8/dist-packages (from python-benedict>=0.21.1->dvc[gdrive]) (6.1.1)\n",
            "Requirement already satisfied: s3transfer<0.7.0,>=0.6.0 in /usr/local/lib/python3.8/dist-packages (from boto3<2.0.0,>=1.24.89->python-benedict>=0.21.1->dvc[gdrive]) (0.6.0)\n",
            "Requirement already satisfied: botocore<1.30.0,>=1.29.27 in /usr/local/lib/python3.8/dist-packages (from boto3<2.0.0,>=1.24.89->python-benedict>=0.21.1->dvc[gdrive]) (1.29.27)\n",
            "Requirement already satisfied: jmespath<2.0.0,>=0.7.1 in /usr/local/lib/python3.8/dist-packages (from boto3<2.0.0,>=1.24.89->python-benedict>=0.21.1->dvc[gdrive]) (1.0.1)\n",
            "Requirement already satisfied: wcwidth>=0.2.5 in /usr/local/lib/python3.8/dist-packages (from ftfy<7.0.0,>=6.0.0->python-benedict>=0.21.1->dvc[gdrive]) (0.2.5)\n",
            "Requirement already satisfied: et-xmlfile in /usr/local/lib/python3.8/dist-packages (from openpyxl<4.0.0,>=3.0.0->python-benedict>=0.21.1->dvc[gdrive]) (1.1.0)\n",
            "Requirement already satisfied: text-unidecode>=1.3 in /usr/local/lib/python3.8/dist-packages (from python-slugify<8.0.0,>=6.0.1->python-benedict>=0.21.1->dvc[gdrive]) (1.3)\n",
            "Requirement already satisfied: idna<4,>=2.5 in /usr/local/lib/python3.8/dist-packages (from requests>=2.22.0->dvc[gdrive]) (2.10)\n",
            "Requirement already satisfied: charset-normalizer<3,>=2 in /usr/local/lib/python3.8/dist-packages (from requests>=2.22.0->dvc[gdrive]) (2.1.1)\n",
            "Requirement already satisfied: certifi>=2017.4.17 in /usr/local/lib/python3.8/dist-packages (from requests>=2.22.0->dvc[gdrive]) (2022.9.24)\n",
            "Requirement already satisfied: commonmark<0.10.0,>=0.9.0 in /usr/local/lib/python3.8/dist-packages (from rich>=3.0.5->dvc[gdrive]) (0.9.1)\n",
            "Requirement already satisfied: pygments<3.0.0,>=2.6.0 in /usr/local/lib/python3.8/dist-packages (from rich>=3.0.5->dvc[gdrive]) (2.6.1)\n",
            "Requirement already satisfied: ruamel.yaml.clib>=0.2.6 in /usr/local/lib/python3.8/dist-packages (from ruamel.yaml>=0.16.1->dvc[gdrive]) (0.2.7)\n"
          ]
        }
      ],
      "source": [
        "!pip install dvc[gdrive]"
      ]
    },
    {
      "cell_type": "code",
      "source": [
        "import matplotlib.pyplot as plt\n",
        "from mpl_toolkits import mplot3d\n",
        "from matplotlib import gridspec\n",
        "\n",
        "from tqdm.notebook import tqdm\n",
        "import numpy as np\n",
        "import  pandas as pd\n",
        "import seaborn as sns\n",
        "import torch\n",
        "import scipy\n",
        "\n",
        "from sklearn.metrics import classification_report\n",
        "from torch.utils.tensorboard import SummaryWriter"
      ],
      "metadata": {
        "id": "aOMiWn7--eyc"
      },
      "execution_count": 2,
      "outputs": []
    },
    {
      "cell_type": "code",
      "source": [
        "import warnings\n",
        "warnings.filterwarnings(\"ignore\")"
      ],
      "metadata": {
        "id": "v9zxdAciCabt"
      },
      "execution_count": 3,
      "outputs": []
    },
    {
      "cell_type": "code",
      "source": [
        "device = 'cuda' if torch.cuda.is_available() else 'cpu'\n",
        "device\n"
      ],
      "metadata": {
        "colab": {
          "base_uri": "https://localhost:8080/",
          "height": 35
        },
        "id": "zRbsyyCTDF-G",
        "outputId": "86b00637-6e0d-4187-b1e8-3e49e596eda0"
      },
      "execution_count": 4,
      "outputs": [
        {
          "output_type": "execute_result",
          "data": {
            "text/plain": [
              "'cpu'"
            ],
            "application/vnd.google.colaboratory.intrinsic+json": {
              "type": "string"
            }
          },
          "metadata": {},
          "execution_count": 4
        }
      ]
    },
    {
      "cell_type": "code",
      "source": [
        "!dvc get https://github.com/AlexeyTri/MyMachineLearningSeminars sem4/data/Wikipedia.en-ru.en\n",
        "!dvc get https://github.com/AlexeyTri/MyMachineLearningSeminars sem4/data/Wikipedia.en-ru.ru"
      ],
      "metadata": {
        "colab": {
          "base_uri": "https://localhost:8080/"
        },
        "id": "PQwZTuh3hg1F",
        "outputId": "d11a7f61-c802-43f0-e7b5-b50a3b47e14a"
      },
      "execution_count": 7,
      "outputs": [
        {
          "output_type": "stream",
          "name": "stdout",
          "text": [
            "\u001b[31mERROR\u001b[39m: unexpected error - redefinition of group name 'ps_d' as group 2; was group 1 at position 46\n",
            "\n",
            "\u001b[33mHaving any troubles?\u001b[39m Hit us up at \u001b[34mhttps://dvc.org/support\u001b[39m, we are always happy to help!\n",
            "\u001b[31mERROR\u001b[39m: unexpected error - redefinition of group name 'ps_d' as group 2; was group 1 at position 46\n",
            "\n",
            "\u001b[33mHaving any troubles?\u001b[39m Hit us up at \u001b[34mhttps://dvc.org/support\u001b[39m, we are always happy to help!\n",
            "\u001b[0m"
          ]
        }
      ]
    },
    {
      "cell_type": "code",
      "source": [
        "with open('./Wikipedia.en-ru.ru') as f:\n",
        "    ru_all_texts = f.read().splitlines()\n",
        "\n",
        "with open('./Wikipedia.en-ru.en') as f:\n",
        "    en_all_texts = f.read().splitlines()"
      ],
      "metadata": {
        "colab": {
          "base_uri": "https://localhost:8080/",
          "height": 235
        },
        "id": "VdVemA8nh7aB",
        "outputId": "8149f5e9-d954-4e8b-8bc9-f3fff3e01420"
      },
      "execution_count": 6,
      "outputs": [
        {
          "output_type": "error",
          "ename": "FileNotFoundError",
          "evalue": "ignored",
          "traceback": [
            "\u001b[0;31m---------------------------------------------------------------------------\u001b[0m",
            "\u001b[0;31mFileNotFoundError\u001b[0m                         Traceback (most recent call last)",
            "\u001b[0;32m<ipython-input-6-b1371134e478>\u001b[0m in \u001b[0;36m<module>\u001b[0;34m\u001b[0m\n\u001b[0;32m----> 1\u001b[0;31m \u001b[0;32mwith\u001b[0m \u001b[0mopen\u001b[0m\u001b[0;34m(\u001b[0m\u001b[0;34m'./Wikipedia.en-ru.ru'\u001b[0m\u001b[0;34m)\u001b[0m \u001b[0;32mas\u001b[0m \u001b[0mf\u001b[0m\u001b[0;34m:\u001b[0m\u001b[0;34m\u001b[0m\u001b[0;34m\u001b[0m\u001b[0m\n\u001b[0m\u001b[1;32m      2\u001b[0m     \u001b[0mru_all_texts\u001b[0m \u001b[0;34m=\u001b[0m \u001b[0mf\u001b[0m\u001b[0;34m.\u001b[0m\u001b[0mread\u001b[0m\u001b[0;34m(\u001b[0m\u001b[0;34m)\u001b[0m\u001b[0;34m.\u001b[0m\u001b[0msplitlines\u001b[0m\u001b[0;34m(\u001b[0m\u001b[0;34m)\u001b[0m\u001b[0;34m\u001b[0m\u001b[0;34m\u001b[0m\u001b[0m\n\u001b[1;32m      3\u001b[0m \u001b[0;34m\u001b[0m\u001b[0m\n\u001b[1;32m      4\u001b[0m \u001b[0;32mwith\u001b[0m \u001b[0mopen\u001b[0m\u001b[0;34m(\u001b[0m\u001b[0;34m'./Wikipedia.en-ru.en'\u001b[0m\u001b[0;34m)\u001b[0m \u001b[0;32mas\u001b[0m \u001b[0mf\u001b[0m\u001b[0;34m:\u001b[0m\u001b[0;34m\u001b[0m\u001b[0;34m\u001b[0m\u001b[0m\n\u001b[1;32m      5\u001b[0m     \u001b[0men_all_texts\u001b[0m \u001b[0;34m=\u001b[0m \u001b[0mf\u001b[0m\u001b[0;34m.\u001b[0m\u001b[0mread\u001b[0m\u001b[0;34m(\u001b[0m\u001b[0;34m)\u001b[0m\u001b[0;34m.\u001b[0m\u001b[0msplitlines\u001b[0m\u001b[0;34m(\u001b[0m\u001b[0;34m)\u001b[0m\u001b[0;34m\u001b[0m\u001b[0;34m\u001b[0m\u001b[0m\n",
            "\u001b[0;31mFileNotFoundError\u001b[0m: [Errno 2] No such file or directory: './Wikipedia.en-ru.ru'"
          ]
        }
      ]
    },
    {
      "cell_type": "markdown",
      "source": [
        "https://opus.nlpl.eu/wikimedia/v20210402/en-ru_sample.html"
      ],
      "metadata": {
        "id": "zNnTpPdcf2Mz"
      }
    },
    {
      "cell_type": "markdown",
      "source": [
        "Ниже приведен работающий код "
      ],
      "metadata": {
        "id": "sZdvJJ4ke3wW"
      }
    },
    {
      "cell_type": "code",
      "source": [
        "# from google.colab import drive\n",
        "# drive.mount('/gdrive')\n",
        "# %cd /gdrive"
      ],
      "metadata": {
        "id": "Q09D7EbQQCfR"
      },
      "execution_count": null,
      "outputs": []
    },
    {
      "cell_type": "code",
      "source": [
        "# with open('/gdrive/MyDrive/Wikipedia.en-ru.en') as f:\n",
        "#     en_all_texts = f.read().splitlines()"
      ],
      "metadata": {
        "id": "_UiKM4m5QZLX"
      },
      "execution_count": null,
      "outputs": []
    },
    {
      "cell_type": "code",
      "source": [
        "# with open('/gdrive/MyDrive/Wikipedia.en-ru.ru') as f:\n",
        "#     ru_all_texts = f.read().splitlines()"
      ],
      "metadata": {
        "id": "MnJpVMUvQh7G"
      },
      "execution_count": null,
      "outputs": []
    },
    {
      "cell_type": "code",
      "source": [
        "# ru_texts = []\n",
        "# en_texts = []\n",
        "\n",
        "# for ru_text, en_text in zip(ru_all_texts, en_all_texts):\n",
        "#     if len(ru_text) < 100 and len(en_text) < 100:\n",
        "#         ru_texts.append(ru_text.lower())\n",
        "#         en_texts.append(en_text.lower())"
      ],
      "metadata": {
        "id": "3_OwyyfKQnOh"
      },
      "execution_count": null,
      "outputs": []
    },
    {
      "cell_type": "code",
      "source": [
        "# len(ru_texts), len(en_texts)"
      ],
      "metadata": {
        "id": "-_0AL-ZsQzD4"
      },
      "execution_count": null,
      "outputs": []
    },
    {
      "cell_type": "code",
      "source": [
        "#  \"md5Checksum\": \"7b41be81a9ca7ea8fa534c8b071491b5\"\n",
        "#  /gdrive/MyDrive/Wikipedia.en-ru.en"
      ],
      "metadata": {
        "id": "ixR2f4A4dhkK"
      },
      "execution_count": null,
      "outputs": []
    },
    {
      "cell_type": "code",
      "source": [
        "# /gdrive/MyDrive/Wikipedia.en-ru.ru\n",
        "# \"md5Checksum\": \"c8b8940aa5554f8abedb8622e2ae4740\""
      ],
      "metadata": {
        "id": "uGFtnWpddidU"
      },
      "execution_count": null,
      "outputs": []
    }
  ]
}